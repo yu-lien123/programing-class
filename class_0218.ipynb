{
  "nbformat": 4,
  "nbformat_minor": 0,
  "metadata": {
    "colab": {
      "provenance": [],
      "authorship_tag": "ABX9TyPUOWK4Bdku9MwBOPlUvoA0",
      "include_colab_link": true
    },
    "kernelspec": {
      "name": "python3",
      "display_name": "Python 3"
    },
    "language_info": {
      "name": "python"
    }
  },
  "cells": [
    {
      "cell_type": "markdown",
      "metadata": {
        "id": "view-in-github",
        "colab_type": "text"
      },
      "source": [
        "<a href=\"https://colab.research.google.com/github/yu-lien123/programing-class/blob/main/class_0218.ipynb\" target=\"_parent\"><img src=\"https://colab.research.google.com/assets/colab-badge.svg\" alt=\"Open In Colab\"/></a>"
      ]
    },
    {
      "cell_type": "code",
      "execution_count": null,
      "metadata": {
        "id": "2YhlH0iI2kCB"
      },
      "outputs": [],
      "source": []
    },
    {
      "cell_type": "markdown",
      "source": [
        "###APPLICATION OF PROGRAMMING\n",
        "  1. 00 INTRO\n",
        "  2. 01 OVERVIEW\n",
        "   1. EX01-01 加法器\n",
        "\n",
        "\n"
      ],
      "metadata": {
        "id": "nfgFtoPnEDMW"
      }
    },
    {
      "cell_type": "code",
      "source": [],
      "metadata": {
        "id": "Dw4BCn8MFWef"
      },
      "execution_count": null,
      "outputs": []
    }
  ]
}