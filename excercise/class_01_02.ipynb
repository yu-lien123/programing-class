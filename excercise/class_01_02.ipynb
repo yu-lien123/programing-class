{
  "nbformat": 4,
  "nbformat_minor": 0,
  "metadata": {
    "colab": {
      "provenance": [],
      "authorship_tag": "ABX9TyNDu9Z+MGgk1hzps7PUmI59",
      "include_colab_link": true
    },
    "kernelspec": {
      "name": "python3",
      "display_name": "Python 3"
    },
    "language_info": {
      "name": "python"
    }
  },
  "cells": [
    {
      "cell_type": "markdown",
      "metadata": {
        "id": "view-in-github",
        "colab_type": "text"
      },
      "source": [
        "<a href=\"https://colab.research.google.com/github/yu-lien123/programing-class/blob/main/class_01_02.ipynb\" target=\"_parent\"><img src=\"https://colab.research.google.com/assets/colab-badge.svg\" alt=\"Open In Colab\"/></a>"
      ]
    },
    {
      "cell_type": "code",
      "execution_count": 4,
      "metadata": {
        "colab": {
          "base_uri": "https://localhost:8080/"
        },
        "id": "V0GPRmAELuk_",
        "outputId": "5ea206b5-655e-4215-a246-698fcec8df8a"
      },
      "outputs": [
        {
          "output_type": "stream",
          "name": "stdout",
          "text": [
            "身高(cm):175\n",
            "體重(kg):62\n",
            "BMI: 20\n"
          ]
        }
      ],
      "source": [
        "ht = float(input('身高(cm):'))\n",
        "wt = float(input('體重(kg):'))\n",
        "bmi = wt/((ht/100)**2)\n",
        "print('BMI:',round(bmi))"
      ]
    }
  ]
}
